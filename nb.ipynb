{
 "cells": [
  {
   "cell_type": "code",
   "execution_count": 1,
   "metadata": {},
   "outputs": [],
   "source": [
    "import numpy as np\n",
    "import matplotlib.pyplot as plt"
   ]
  },
  {
   "cell_type": "code",
   "execution_count": 55,
   "metadata": {},
   "outputs": [],
   "source": [
    "class NaiveBayes():\n",
    "    def __init__(self, m=300 , n=2):\n",
    "        self.m = m\n",
    "        self.n = n\n",
    "\n",
    "    \n",
    "    def fit(self, x, y):\n",
    "        self.classes = np.unique(y)\n",
    "        self.num_classes = len(self.classes)\n",
    "\n",
    "        self.means_per_m_per_n = np.zeros((self.num_classes, self.n), dtype=float) # calc mean of xi per class, per feature\n",
    "        self.vars_per_m_per_n = np.zeros((self.num_classes, self.n), dtype=float) # calc var of xi per class, per feature\n",
    "        self.prob_of_ci = np.zeros((self.num_classes, 1), dtype=float) # get probabilty of class Ci\n",
    "\n",
    "        for i, ci in enumerate(self.classes):\n",
    "            x_in_ci = x[y==ci]\n",
    "            self.means_per_m_per_n[i] = np.mean(x_in_ci, axis = 0)\n",
    "            self.vars_per_m_per_n[i] = np.var(x_in_ci, axis = 0)\n",
    "            self.prob_of_ci[i] = x_in_ci.shape[0]/self.m\n",
    "        return self\n",
    "    \n",
    "    def predict(self, x):\n",
    "        # Given a test_x, find the \n",
    "        # - probabilty of it belonging to C1 given all it's xi, \n",
    "        # - probabilty of it belonging to C2 given all it's xi and so on. \n",
    "        # Then return the max of all these probabilities, test_x belongs to that class that has the max \n",
    "\n",
    "        all_p_of_ci_xjs = []\n",
    "        for i,ci in enumerate(self.classes):\n",
    "            p_of_ci_xjs = self.prob_of_ci[i] # initialize P(Ci/(x1, x2....)) with P(Ci)\n",
    "            # p_of_ci_xjs = np.log(self.prob_of_ci[i]) # alternative\n",
    "            for j, xj in enumerate(x):\n",
    "                pdf_p_of_xj_ci = 1./np.sqrt(2.* np.pi * self.vars_per_m_per_n[i][j]) * np.exp(- (xj - self.means_per_m_per_n[i][j])**2 / (2*self.vars_per_m_per_n[i][j]))\n",
    "                p_of_ci_xjs = p_of_ci_xjs * pdf_p_of_xj_ci # multiply all the P(xj/Ci)'s to get P(Ci| x1, x2,.. xj)\n",
    "                # p_of_ci_xjs = p_of_ci_xjs + np.log(pdf_p_of_xj_ci) # alternative\n",
    "            all_p_of_ci_xjs.append(p_of_ci_xjs)\n",
    "        print (all_p_of_ci_xjs)\n",
    "        return self.classes[np.argmax(all_p_of_ci_xjs)], np.max(all_p_of_ci_xjs)"
   ]
  },
  {
   "cell_type": "code",
   "execution_count": 57,
   "metadata": {},
   "outputs": [
    {
     "name": "stdout",
     "output_type": "stream",
     "text": [
      "[array([0.02957827]), array([8.51781324e-12])]\n",
      "[6. 6.] belongs to class 0 with probability 0.02957826829822253\n"
     ]
    },
    {
     "data": {
      "image/png": "[encoded data removed]",
      "text/plain": [
       "<Figure size 640x480 with 1 Axes>"
      ]
     },
     "metadata": {},
     "output_type": "display_data"
    }
   ],
   "source": [
    "from sklearn.datasets import make_blobs\n",
    "\n",
    "centers = [(5, 5), (10, 10)]\n",
    "cluster_std = [0.8, 0.8]\n",
    "\n",
    "x, y = make_blobs(n_samples=300, cluster_std=cluster_std, centers=centers, n_features=2, random_state=1)\n",
    "# y = np.where(y==0, -1, 1)\n",
    "plt.scatter(x[y == 0, 0], x[y == 0, 1], color=\"red\", s=10, label=\"Cluster1\")\n",
    "plt.scatter(x[y == 1, 0], x[y == 1, 1], color=\"blue\", s=10, label=\"Cluster2\")\n",
    "\n",
    "nb = NaiveBayes(m = 300, n = 2)\n",
    "nb.fit(x,y)\n",
    "test_x = np.array([6.,6.])\n",
    "c, prob = nb.predict(test_x)\n",
    "print(test_x, \"belongs to class\", c, \"with probability\", prob)\n"
   ]
  },
  {
   "cell_type": "code",
   "execution_count": null,
   "metadata": {},
   "outputs": [],
   "source": []
  }
 ],
 "metadata": {
  "kernelspec": {
   "display_name": "Python 3",
   "language": "python",
   "name": "python3"
  },
  "language_info": {
   "codemirror_mode": {
    "name": "ipython",
    "version": 3
   },
   "file_extension": ".py",
   "mimetype": "text/x-python",
   "name": "python",
   "nbconvert_exporter": "python",
   "pygments_lexer": "ipython3",
   "version": "3.11.3"
  },
  "orig_nbformat": 4
 },
 "nbformat": 4,
 "nbformat_minor": 2
}
